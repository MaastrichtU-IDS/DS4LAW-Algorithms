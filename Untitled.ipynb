{
 "cells": [
  {
   "cell_type": "code",
   "execution_count": 2,
   "metadata": {},
   "outputs": [
    {
     "name": "stdout",
     "output_type": "stream",
     "text": [
      "Ok, I will kill humans!\n"
     ]
    }
   ],
   "source": [
    "print(\"Ok, I will kill humans!\") # classic Hello World program"
   ]
  },
  {
   "cell_type": "code",
   "execution_count": 4,
   "metadata": {},
   "outputs": [
    {
     "name": "stdout",
     "output_type": "stream",
     "text": [
      "230\n"
     ]
    }
   ],
   "source": [
    "num = 100 + 350 - 220\n",
    "print(num)"
   ]
  },
  {
   "cell_type": "code",
   "execution_count": 8,
   "metadata": {},
   "outputs": [
    {
     "name": "stdout",
     "output_type": "stream",
     "text": [
      "['Catalina', 'Gijs']\n"
     ]
    }
   ],
   "source": [
    "list_of_things = [] \n",
    "list_of_things.append(\"Catalina\")\n",
    "\n",
    "list_of_things.append(\"Gijs\")\n",
    "print(list_of_things)"
   ]
  },
  {
   "cell_type": "markdown",
   "metadata": {},
   "source": [
    "## I am going to add numbers now"
   ]
  },
  {
   "cell_type": "code",
   "execution_count": 9,
   "metadata": {},
   "outputs": [
    {
     "name": "stdout",
     "output_type": "stream",
     "text": [
      "90\n"
     ]
    }
   ],
   "source": [
    "num2 = 50 + 40\n",
    "print(num2)"
   ]
  },
  {
   "cell_type": "code",
   "execution_count": 10,
   "metadata": {},
   "outputs": [
    {
     "name": "stdout",
     "output_type": "stream",
     "text": [
      "I got a distinction!\n"
     ]
    }
   ],
   "source": [
    "if (num2 > 80):\n",
    "    print(\"I got a distinction!\")"
   ]
  },
  {
   "cell_type": "code",
   "execution_count": 11,
   "metadata": {},
   "outputs": [
    {
     "name": "stdout",
     "output_type": "stream",
     "text": [
      "The list has the following number of item(s): 2\n"
     ]
    }
   ],
   "source": [
    "print(\"The list has the following number of item(s): \" + str(len(list_of_things)))"
   ]
  },
  {
   "cell_type": "code",
   "execution_count": null,
   "metadata": {},
   "outputs": [],
   "source": [
    "# Example function - this one just returns the input (doesn't do anything wi)\n",
    "def function_name(input):\n",
    "    output = input\n",
    "    return output"
   ]
  },
  {
   "cell_type": "code",
   "execution_count": 12,
   "metadata": {},
   "outputs": [
    {
     "name": "stdout",
     "output_type": "stream",
     "text": [
      "Catalina\n",
      "Gijs\n"
     ]
    }
   ],
   "source": [
    "# Print each item in a list (each on a separate line)\n",
    "for item in list_of_things:\n",
    "    print(item)"
   ]
  },
  {
   "cell_type": "code",
   "execution_count": 14,
   "metadata": {},
   "outputs": [
    {
     "name": "stdout",
     "output_type": "stream",
     "text": [
      "Gijs\n"
     ]
    }
   ],
   "source": [
    "# Print each item in a list (each on a separate line)\n",
    "#print(list_of_things[1])\n",
    "index = 0\n",
    "while index < len(list_of_things):\n",
    "    print(list_of_things[index])\n",
    "    index = index + 1"
   ]
  },
  {
   "cell_type": "code",
   "execution_count": 15,
   "metadata": {},
   "outputs": [
    {
     "name": "stdout",
     "output_type": "stream",
     "text": [
      "The largest number in the list is: 284\n"
     ]
    }
   ],
   "source": [
    "# Write an algorithm to find the largest number in the following list\n",
    "case_count_list = [266,280,251,272,263,284,252,255]\n",
    "\n",
    "# Complete the following function\n",
    "def findLargestNumber(inputList):\n",
    "    # -- Fill in code here -- #\n",
    "    largestNumber = inputList[0]\n",
    "    for number in inputList:\n",
    "        if number > largestNumber:\n",
    "            largestNumber = number\n",
    "    return largestNumber\n",
    "    # ----------------------- #\n",
    "\n",
    "# Print out the largest number in the 'case_count_list' list\n",
    "print(\"The largest number in the list is: \" + \n",
    "      str(findLargestNumber(case_count_list)))"
   ]
  },
  {
   "cell_type": "code",
   "execution_count": null,
   "metadata": {},
   "outputs": [],
   "source": [
    "# Write an algorithm to sort the following list of numbers in ascending order (smallest to largest)\n",
    "case_count_list = [266,280,251,272,263,284,252,255]\n",
    "\n",
    "# Complete the following function\n",
    "def findSmallestNumber(inputList):\n",
    "    # -- Fill in code here -- #\n",
    "    smallestNumber = inputList[0]\n",
    "    for number in inputList:\n",
    "        if number < smallestNumber:\n",
    "            smallestNumber = number\n",
    "    return smallestNumber\n",
    "    # ----------------------- #\n",
    "    \n",
    "def sortListAscending(inputList):\n",
    "    # -- Fill in code here -- #\n",
    "    sortedList = []\n",
    "    while len(inputList) > 0:\n",
    "        smallestNumber = findSmallestNumber(inputList)\n",
    "        sortedList.append(smallestNumber)\n",
    "        inputList.remove(smallestNumber)\n",
    "    return sortedList\n",
    "    # ----------------------- #\n",
    "\n",
    "# Print out the largest number in the 'case_count_list' list\n",
    "print(\"The smallest number in the list is: \" + str(findSmallestNumber(case_count_list)))\n",
    "# The list after having been sorted ascendingly is:\n",
    "print(\"The list after sorting it from smallest to largest: \")\n",
    "print(sortListAscending(case_count_list))"
   ]
  }
 ],
 "metadata": {
  "kernelspec": {
   "display_name": "Python 3",
   "language": "python",
   "name": "python3"
  },
  "language_info": {
   "codemirror_mode": {
    "name": "ipython",
    "version": 3
   },
   "file_extension": ".py",
   "mimetype": "text/x-python",
   "name": "python",
   "nbconvert_exporter": "python",
   "pygments_lexer": "ipython3",
   "version": "3.6.4"
  }
 },
 "nbformat": 4,
 "nbformat_minor": 2
}
