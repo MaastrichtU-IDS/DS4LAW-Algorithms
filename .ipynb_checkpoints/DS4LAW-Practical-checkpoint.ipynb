{
 "cells": [
  {
   "cell_type": "markdown",
   "metadata": {},
   "source": [
    "# DS4LAW - Algorithms"
   ]
  },
  {
   "cell_type": "markdown",
   "metadata": {},
   "source": [
    "Practical tasks for the DS4LAW session on foundations of computer algorithms"
   ]
  },
  {
   "cell_type": "markdown",
   "metadata": {},
   "source": [
    "### 1. Introductory tips"
   ]
  },
  {
   "cell_type": "markdown",
   "metadata": {},
   "source": [
    "#### a. Hello World in Python 3"
   ]
  },
  {
   "cell_type": "code",
   "execution_count": null,
   "metadata": {},
   "outputs": [],
   "source": [
    "print(\"Hello, World!\") # classic Hello World program"
   ]
  },
  {
   "cell_type": "markdown",
   "metadata": {},
   "source": [
    "#### b. Create  a variable and assign a numerical value to it"
   ]
  },
  {
   "cell_type": "code",
   "execution_count": null,
   "metadata": {},
   "outputs": [],
   "source": [
    "num = 100 # Create a variable called 'num' and assign the number 100 to this variable"
   ]
  },
  {
   "cell_type": "markdown",
   "metadata": {},
   "source": [
    "#### c. Create a new empty list (of items) which we can add to"
   ]
  },
  {
   "cell_type": "code",
   "execution_count": null,
   "metadata": {},
   "outputs": [],
   "source": [
    "list_of_things = [] # Creates an empty list which we can add items to"
   ]
  },
  {
   "cell_type": "markdown",
   "metadata": {},
   "source": [
    "#### d. Add some items to the list"
   ]
  },
  {
   "cell_type": "code",
   "execution_count": null,
   "metadata": {},
   "outputs": [],
   "source": [
    "list_of_things.append(num) # adds the number 100 to the list\n",
    "list_of_things.append(150) # add another number to the list\n",
    "list_of_things # print out the list (just to verify if the instructions executed as expected)"
   ]
  },
  {
   "cell_type": "markdown",
   "metadata": {},
   "source": [
    "#### e. Compare two numbers"
   ]
  },
  {
   "cell_type": "code",
   "execution_count": null,
   "metadata": {},
   "outputs": [],
   "source": [
    "# Check if the first item (at index 0) in the list_of_things is greater than 80\n",
    "# If so, print out this fact\n",
    "if list_of_things[0] > 80:\n",
    "    print(str(list_of_things[0]) + \" is larger than 80.\")"
   ]
  },
  {
   "cell_type": "markdown",
   "metadata": {},
   "source": [
    "### f. Print the length of a list (how many items it has in it)"
   ]
  },
  {
   "cell_type": "code",
   "execution_count": null,
   "metadata": {},
   "outputs": [],
   "source": [
    "print(\"The list has the following number of item(s): \" + str(len(list_of_things)))"
   ]
  },
  {
   "cell_type": "markdown",
   "metadata": {},
   "source": [
    "#### g. Define a function or procedure "
   ]
  },
  {
   "cell_type": "code",
   "execution_count": null,
   "metadata": {},
   "outputs": [],
   "source": [
    "# Example function - this one just returns the input (doesn't do anything wi)\n",
    "def function_name(input):\n",
    "    output = input\n",
    "    return output"
   ]
  },
  {
   "cell_type": "markdown",
   "metadata": {},
   "source": [
    "### h. Loop through each item in a list"
   ]
  },
  {
   "cell_type": "code",
   "execution_count": null,
   "metadata": {},
   "outputs": [],
   "source": [
    "# Print each item in a list (each on a separate line)\n",
    "for item in list_of_things:\n",
    "    print(item)"
   ]
  },
  {
   "cell_type": "markdown",
   "metadata": {},
   "source": [
    "### i. Loop through list using a 'while' condition (rather than a 'for' loop)"
   ]
  },
  {
   "cell_type": "code",
   "execution_count": 26,
   "metadata": {},
   "outputs": [
    {
     "name": "stdout",
     "output_type": "stream",
     "text": [
      "100\n",
      "150\n"
     ]
    }
   ],
   "source": [
    "# Print each item in a list (each on a separate line)\n",
    "index = 0\n",
    "while index < len(list_of_things):\n",
    "    print(list_of_things[index])\n",
    "    index = index + 1"
   ]
  },
  {
   "cell_type": "markdown",
   "metadata": {},
   "source": [
    "### 2. Task 1: Write an algorithm to find the largest number in the following list"
   ]
  },
  {
   "cell_type": "code",
   "execution_count": null,
   "metadata": {},
   "outputs": [],
   "source": [
    "# Write an algorithm to find the largest number in the following list\n",
    "case_count_list = [266,280,251,272,263,284,252,255]\n",
    "\n",
    "# Complete the following function\n",
    "def findLargestNumber(inputList):\n",
    "    # -- Fill in code here -- #\n",
    "    largestNumber = inputList[0]\n",
    "    for number in inputList:\n",
    "        if number > largestNumber:\n",
    "            largestNumber = number\n",
    "    return largestNumber\n",
    "    # ----------------------- #\n",
    "\n",
    "# Print out the largest number in the 'case_count_list' list\n",
    "print(\"The largest number in the list is: \" + str(findLargestNumber(case_count_list)))"
   ]
  },
  {
   "cell_type": "markdown",
   "metadata": {},
   "source": [
    "### 3. Task 2: Write an algorithm to sort the following list of numbers in ascending order (smallest to largest)"
   ]
  },
  {
   "cell_type": "code",
   "execution_count": null,
   "metadata": {},
   "outputs": [],
   "source": [
    "# Write an algorithm to sort the following list of numbers in ascending order (smallest to largest)\n",
    "case_count_list = [266,280,251,272,263,284,252,255]\n",
    "\n",
    "# Complete the following function\n",
    "def findSmallestNumber(inputList):\n",
    "    # -- Fill in code here -- #\n",
    "    smallestNumber = inputList[0]\n",
    "    for number in inputList:\n",
    "        if number < smallestNumber:\n",
    "            smallestNumber = number\n",
    "    return smallestNumber\n",
    "    # ----------------------- #\n",
    "    \n",
    "def sortListAscending(inputList):\n",
    "    # -- Fill in code here -- #\n",
    "    sortedList = []\n",
    "    while len(inputList) > 0:\n",
    "        smallestNumber = findSmallestNumber(inputList)\n",
    "        sortedList.append(smallestNumber)\n",
    "        inputList.remove(smallestNumber)\n",
    "    return sortedList\n",
    "    # ----------------------- #\n",
    "\n",
    "# Print out the largest number in the 'case_count_list' list\n",
    "print(\"The smallest number in the list is: \" + str(findSmallestNumber(case_count_list)))\n",
    "# The list after having been sorted ascendingly is:\n",
    "print(\"The list after sorting it from smallest to largest: \")\n",
    "print(sortListAscending(case_count_list))"
   ]
  },
  {
   "cell_type": "code",
   "execution_count": null,
   "metadata": {},
   "outputs": [],
   "source": []
  }
 ],
 "metadata": {
  "kernelspec": {
   "display_name": "Python 3",
   "language": "python",
   "name": "python3"
  },
  "language_info": {
   "codemirror_mode": {
    "name": "ipython",
    "version": 3
   },
   "file_extension": ".py",
   "mimetype": "text/x-python",
   "name": "python",
   "nbconvert_exporter": "python",
   "pygments_lexer": "ipython3",
   "version": "3.6.4"
  }
 },
 "nbformat": 4,
 "nbformat_minor": 2
}
